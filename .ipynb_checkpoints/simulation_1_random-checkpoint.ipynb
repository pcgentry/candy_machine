{
 "cells": [
  {
   "cell_type": "markdown",
   "metadata": {},
   "source": [
    "# Random Candy Machine\n",
    "\n",
    "### Explore a Wuzzle simulation using the \"Random\" Candy Machine.\n",
    "\n",
    "The setup:\n",
    "- 50 Worlds\n"
   ]
  },
  {
   "cell_type": "code",
   "execution_count": 1,
   "metadata": {},
   "outputs": [],
   "source": [
    "#!./bin/python\n",
    "import pandas as pd\n",
    "import numpy as np\n",
    "import matplotlib.pyplot as plt\n",
    "\n",
    "plt.style.use('seaborn-bright')\n",
    "\n",
    "from scipy.stats import norm, skewnorm, skew\n",
    "from src.simulation import Simulation\n",
    "from helpers import *\n",
    "\n",
    "strategy_human = \"Random Candy Machine\"\n",
    "\n",
    "strategy = \"random\"\n",
    "s = Simulation(strategy=strategy)\n",
    "\n",
    "num_simulations = 4\n",
    "image_prefix = \"images/random_\"\n",
    "\n",
    "simulations = []\n",
    "\n",
    "for i in range(num_simulations):\n",
    "    simulations.append(Simulation(strategy=strategy))\n",
    "\n",
    "\n",
    "nights_df = pd.DataFrame(s.nightly_stats)"
   ]
  },
  {
   "cell_type": "markdown",
   "metadata": {},
   "source": [
    "### Take a quick look at the data for each night in the land of Wuzz"
   ]
  },
  {
   "cell_type": "code",
   "execution_count": 2,
   "metadata": {},
   "outputs": [
    {
     "data": {
      "text/html": [
       "<div>\n",
       "<style scoped>\n",
       "    .dataframe tbody tr th:only-of-type {\n",
       "        vertical-align: middle;\n",
       "    }\n",
       "\n",
       "    .dataframe tbody tr th {\n",
       "        vertical-align: top;\n",
       "    }\n",
       "\n",
       "    .dataframe thead th {\n",
       "        text-align: right;\n",
       "    }\n",
       "</style>\n",
       "<table border=\"1\" class=\"dataframe\">\n",
       "  <thead>\n",
       "    <tr style=\"text-align: right;\">\n",
       "      <th></th>\n",
       "      <th>nightly_lick_counter</th>\n",
       "      <th>lick_counter</th>\n",
       "      <th>population_wuzzle</th>\n",
       "      <th>dead_wuzzle</th>\n",
       "      <th>live_wuzzle</th>\n",
       "      <th>total_hunger_wuzzle</th>\n",
       "      <th>population_candy</th>\n",
       "      <th>dead_candy</th>\n",
       "      <th>live_candy</th>\n",
       "      <th>total_hunger_candy</th>\n",
       "      <th>machine_accuracy</th>\n",
       "    </tr>\n",
       "  </thead>\n",
       "  <tbody>\n",
       "    <tr>\n",
       "      <th>0</th>\n",
       "      <td>0</td>\n",
       "      <td>0</td>\n",
       "      <td>20</td>\n",
       "      <td>0</td>\n",
       "      <td>20</td>\n",
       "      <td>0.0</td>\n",
       "      <td>20</td>\n",
       "      <td>0</td>\n",
       "      <td>20</td>\n",
       "      <td>0.0</td>\n",
       "      <td>0.000000</td>\n",
       "    </tr>\n",
       "    <tr>\n",
       "      <th>1</th>\n",
       "      <td>69</td>\n",
       "      <td>69</td>\n",
       "      <td>20</td>\n",
       "      <td>0</td>\n",
       "      <td>20</td>\n",
       "      <td>4.0</td>\n",
       "      <td>20</td>\n",
       "      <td>0</td>\n",
       "      <td>20</td>\n",
       "      <td>4.0</td>\n",
       "      <td>0.650000</td>\n",
       "    </tr>\n",
       "    <tr>\n",
       "      <th>2</th>\n",
       "      <td>48</td>\n",
       "      <td>117</td>\n",
       "      <td>20</td>\n",
       "      <td>0</td>\n",
       "      <td>20</td>\n",
       "      <td>4.4</td>\n",
       "      <td>20</td>\n",
       "      <td>0</td>\n",
       "      <td>20</td>\n",
       "      <td>4.8</td>\n",
       "      <td>0.591667</td>\n",
       "    </tr>\n",
       "    <tr>\n",
       "      <th>3</th>\n",
       "      <td>64</td>\n",
       "      <td>181</td>\n",
       "      <td>20</td>\n",
       "      <td>0</td>\n",
       "      <td>20</td>\n",
       "      <td>4.2</td>\n",
       "      <td>20</td>\n",
       "      <td>0</td>\n",
       "      <td>20</td>\n",
       "      <td>4.6</td>\n",
       "      <td>0.627778</td>\n",
       "    </tr>\n",
       "    <tr>\n",
       "      <th>4</th>\n",
       "      <td>68</td>\n",
       "      <td>249</td>\n",
       "      <td>20</td>\n",
       "      <td>0</td>\n",
       "      <td>20</td>\n",
       "      <td>4.4</td>\n",
       "      <td>20</td>\n",
       "      <td>0</td>\n",
       "      <td>20</td>\n",
       "      <td>4.4</td>\n",
       "      <td>0.620833</td>\n",
       "    </tr>\n",
       "  </tbody>\n",
       "</table>\n",
       "</div>"
      ],
      "text/plain": [
       "   nightly_lick_counter  lick_counter  population_wuzzle  dead_wuzzle  \\\n",
       "0                     0             0                 20            0   \n",
       "1                    69            69                 20            0   \n",
       "2                    48           117                 20            0   \n",
       "3                    64           181                 20            0   \n",
       "4                    68           249                 20            0   \n",
       "\n",
       "   live_wuzzle  total_hunger_wuzzle  population_candy  dead_candy  live_candy  \\\n",
       "0           20                  0.0                20           0          20   \n",
       "1           20                  4.0                20           0          20   \n",
       "2           20                  4.4                20           0          20   \n",
       "3           20                  4.2                20           0          20   \n",
       "4           20                  4.4                20           0          20   \n",
       "\n",
       "   total_hunger_candy  machine_accuracy  \n",
       "0                 0.0          0.000000  \n",
       "1                 4.0          0.650000  \n",
       "2                 4.8          0.591667  \n",
       "3                 4.6          0.627778  \n",
       "4                 4.4          0.620833  "
      ]
     },
     "execution_count": 2,
     "metadata": {},
     "output_type": "execute_result"
    }
   ],
   "source": [
    "nights_df.head()"
   ]
  },
  {
   "cell_type": "markdown",
   "metadata": {},
   "source": [
    "# Population Over Time\n",
    "\n",
    "Due to the current rules of Wuzz, the populations eventually die because there is no recycling and there are no new Wuzzles or Candy being introduced. \n",
    "\n",
    "The question is how long it takes.\n",
    "\n",
    "This first graphic shows the living Wuzzle populations over time. Each pale green line is the data from a single world, and the thick orange line shows the average of all worlds."
   ]
  },
  {
   "cell_type": "code",
   "execution_count": 3,
   "metadata": {},
   "outputs": [
    {
     "data": {
      "image/png": "[encoded data removed]",
      "text/plain": [
       "<Figure size 1440x360 with 1 Axes>"
      ]
     },
     "metadata": {
      "needs_background": "light"
     },
     "output_type": "display_data"
    }
   ],
   "source": [
    "plt.figure(figsize=(20, 5))\n",
    "\n",
    "nights_arr = []\n",
    "max_nights = 0\n",
    "\n",
    "i = 0\n",
    "for sim in simulations:\n",
    "    sim_stats = pd.DataFrame(sim.nightly_stats)\n",
    "    plt.plot(sim_stats['live_wuzzle'], color='green', alpha=.05, linewidth=2)\n",
    "\n",
    "    if len(sim_stats) > max_nights:\n",
    "        max_nights = len(sim_stats)\n",
    "    nights_arr.append(np.array(sim_stats['live_wuzzle'].values))\n",
    "\n",
    "\n",
    "uniform_arr = []\n",
    "for n in nights_arr:\n",
    "    c_nights = len(n)\n",
    "    diff = max_nights - c_nights\n",
    "\n",
    "    if len(n) < max_nights:\n",
    "        diff_add = np.zeros(diff)\n",
    "        n = np.concatenate((n, diff_add)) \n",
    "        uniform_arr.append(n)  \n",
    "\n",
    "x = np.stack(uniform_arr)\n",
    "x = x.T\n",
    "\n",
    "averages_arr = []\n",
    "\n",
    "i = 0\n",
    "for night in x[:]:\n",
    "    averages_arr.append(x[:][i].mean())\n",
    "    i += 1\n",
    "\n",
    "averages_arr\n",
    "\n",
    "plt.plot(averages_arr, color='orange', alpha=.5, linewidth=10, label=\"Average Population\")\n",
    "plt.title(f\"Wuzzle Population over time - {strategy_human}\")\n",
    "plt.ylabel('Living Wuzzle Population')\n",
    "plt.xlabel('Nights')\n",
    "plt.legend()\n",
    "\n",
    "maximum_number_of_nights = max_nights\n",
    "plt.savefig(f\"{ image_prefix }wuzzle_population_over_time.png\");\n",
    "plt.show();\n",
    "\n"
   ]
  },
  {
   "cell_type": "markdown",
   "metadata": {},
   "source": [
    "## Looking at the distribution of the number of days until all Wuzzles are dead:"
   ]
  },
  {
   "cell_type": "code",
   "execution_count": 5,
   "metadata": {
    "scrolled": true
   },
   "outputs": [
    {
     "data": {
      "image/png": "[encoded data removed]",
      "text/plain": [
       "<Figure size 1440x360 with 2 Axes>"
      ]
     },
     "metadata": {
      "needs_background": "light"
     },
     "output_type": "display_data"
    }
   ],
   "source": [
    "# using tuple unpacking for multiple Axes\n",
    "fig, (ax1, ax2) = plt.subplots(1, 2, figsize=(20,5))\n",
    "\n",
    "max_nights = []\n",
    "\n",
    "for sim in simulations:\n",
    "    nights_df = pd.DataFrame(sim.nightly_stats)\n",
    "    max_nights.append(len(nights_df))\n",
    "\n",
    "max_nights = np.array(max_nights)\n",
    "\n",
    "global_nights_mean = max_nights.mean()\n",
    "global_nights_min = max_nights.min()\n",
    "global_nights_max = max_nights.max()\n",
    "\n",
    "\n",
    "# dist = norm(loc=max_nights.mean(), scale=max_nights.std())\n",
    "\n",
    "night_skew = skew(max_nights)\n",
    "dist = skewnorm(loc=max_nights.mean(), scale=max_nights.std())\n",
    "\n",
    "spread = max_nights.max() - max_nights.min()\n",
    "support = np.linspace(max_nights.min() - spread, max_nights.max() + spread, 100)\n",
    "\n",
    "ax1.plot(support, dist.pdf(support), color='red')\n",
    "ax1.set_title(f\"Distribution of Final Day - {strategy_human}\")\n",
    "ax1.set_ylabel('Likelihood')\n",
    "ax1.set_xlabel('Days to Wuzzlpocalypse')\n",
    "\n",
    "skull_pixels = mpimg.imread('images/skull.jpeg')\n",
    "imagebox = OffsetImage(skull_pixels, zoom=.25)\n",
    "ab = AnnotationBbox(imagebox, (max_nights.mean(), .03))\n",
    "ax1.add_artist(ab)\n",
    "\n",
    "ax2.hist(max_nights, facecolor='green', alpha=1, bins=5)\n",
    "ax2.set_title('Nights before Wuzzlpocalypse')\n",
    "ax2.set_ylabel('Number of Occurences')\n",
    "ax2.set_xlabel('Final Night')\n",
    "\n",
    "plt.savefig(f\"{ image_prefix }distribution_final_days.png\");\n",
    "plt.show();"
   ]
  },
  {
   "cell_type": "code",
   "execution_count": null,
   "metadata": {
    "scrolled": false
   },
   "outputs": [],
   "source": [
    "nrml_dist_points = skull_chart(simulations, strategy_human, image_prefix)"
   ]
  },
  {
   "cell_type": "code",
   "execution_count": null,
   "metadata": {},
   "outputs": [],
   "source": []
  },
  {
   "cell_type": "markdown",
   "metadata": {},
   "source": [
    "# Licks: What is happening leading to the disaster?\n",
    "\n",
    "### We start by looking at the total number of licks in each world.\n",
    "\n",
    "You can see it start low, and then move up steadily until the available resources are used up. Then it tops off and everyone starves."
   ]
  },
  {
   "cell_type": "code",
   "execution_count": null,
   "metadata": {},
   "outputs": [],
   "source": [
    "plt.figure(figsize=(20, 5))\n",
    "\n",
    "y_size = num_simulations\n",
    "x_size = maximum_number_of_nights\n",
    "\n",
    "all_licks = np.zeros((y_size+1,x_size+1))\n",
    "\n",
    "y = 0\n",
    "\n",
    "for sim in simulations:\n",
    "    nights_df = pd.DataFrame(sim.nightly_stats)\n",
    "    plt.plot(nights_df['lick_counter'], color='orange', alpha=.2, linewidth=1)\n",
    "    x = 0\n",
    "\n",
    "    # print(all_licks.shape)\n",
    "    for p in nights_df['lick_counter']:\n",
    "        x+=1\n",
    "        all_licks[y][x] = p\n",
    "    y += 1\n",
    "\n",
    "# all_licks = all_licks.T\n",
    "\n",
    "lick_means = []\n",
    "\n",
    "for l in all_licks.T:\n",
    "    lick_means.append(l.mean())\n",
    "\n",
    "global_nights_mean_int = int(global_nights_mean)\n",
    "\n",
    "plt.plot(lick_means[1:global_nights_mean_int], color='chocolate', alpha=.5, linewidth=10, label=\"Average Licks Per Day\")\n",
    "\n",
    "plt.title(f\"Total Licks over time - {strategy_human}\")\n",
    "plt.ylabel('Total Licks')\n",
    "plt.xlabel('Number of Nights')\n",
    "plt.legend()\n",
    "\n",
    "plt.savefig(f\"{ image_prefix }total_licks.png\");\n",
    "plt.show();"
   ]
  },
  {
   "cell_type": "markdown",
   "metadata": {},
   "source": [
    "## Licks per Day\n",
    "\n",
    "Looking at licks each Day, we can see that early on licks are steady, then they drop as supply goes down. Eventually they drop to nothing and again, everyone starves.\n",
    "\n",
    "This graph shows the range of final days to the right with the red bars."
   ]
  },
  {
   "cell_type": "code",
   "execution_count": null,
   "metadata": {},
   "outputs": [],
   "source": [
    "plt.figure(figsize=(20, 5))\n",
    "\n",
    "for sim in simulations:\n",
    "    nights_df = pd.DataFrame(sim.nightly_stats)\n",
    "    support = list(range(len(nights_df)))\n",
    "    \n",
    "    plt.bar(height=nights_df['nightly_lick_counter'], x=support, alpha=.1)\n",
    "\n",
    "plt.axvline(global_nights_mean, color=\"black\", linewidth=1, alpha=1, label=\"Average day of Wuzzlpocalypse\")\n",
    "plt.axvline(global_nights_mean, color=\"firebrick\", linewidth=3, alpha=1)\n",
    "plt.axvline(global_nights_min, linestyle =\"--\", color=\"firebrick\", linewidth=3, alpha=.5, label=\"Earliest Wuzzlpocalypse\")\n",
    "plt.axvline(global_nights_max, linestyle =\"--\", color=\"firebrick\", linewidth=3, alpha=.5, label=\"Latest Wuzzlpocalypse\")\n",
    "plt.axvspan(global_nights_min, global_nights_max, alpha=0.2, color='firebrick')\n",
    "\n",
    "    \n",
    "plt.title(f\"Wuzzle Licks by Day - {strategy_human}\")\n",
    "plt.ylabel(f\"Number of Nightly Licks\")\n",
    "plt.xlabel('Nights')\n",
    "\n",
    "plt.legend()\n",
    "plt.savefig(f\"{ image_prefix }nightly_licks.png\");\n",
    "plt.show();"
   ]
  },
  {
   "cell_type": "code",
   "execution_count": null,
   "metadata": {},
   "outputs": [],
   "source": [
    "plt.figure(figsize=(20, 5))\n",
    "\n",
    "for sim in simulations:\n",
    "    nights_df = pd.DataFrame(sim.nightly_stats)\n",
    "    # print(nights_df['machine_accuracy'])\n",
    "    support = list(range(len(nights_df)))\n",
    "    \n",
    "    plt.plot(nights_df['machine_accuracy'], alpha=.5)\n",
    "\n",
    "plt.title(f\"Candy Machine Accuracy - {strategy_human}\")\n",
    "plt.ylabel(f\"Machine Accuracy\")\n",
    "plt.xlabel('Nights')\n",
    "\n",
    "# plt.legend()\n",
    "plt.savefig(f\"{ image_prefix }machine_accuracy.png\");\n",
    "plt.show();"
   ]
  },
  {
   "cell_type": "code",
   "execution_count": null,
   "metadata": {},
   "outputs": [],
   "source": []
  }
 ],
 "metadata": {
  "kernelspec": {
   "display_name": "Python 3",
   "language": "python",
   "name": "python3"
  },
  "language_info": {
   "codemirror_mode": {
    "name": "ipython",
    "version": 3
   },
   "file_extension": ".py",
   "mimetype": "text/x-python",
   "name": "python",
   "nbconvert_exporter": "python",
   "pygments_lexer": "ipython3",
   "version": "3.9.2"
  },
  "metadata": {
   "interpreter": {
    "hash": "dae63cf5dd714f6936108456f7d76a008443094cf1e79e81474a6a00c8262e7d"
   }
  }
 },
 "nbformat": 4,
 "nbformat_minor": 2
}
