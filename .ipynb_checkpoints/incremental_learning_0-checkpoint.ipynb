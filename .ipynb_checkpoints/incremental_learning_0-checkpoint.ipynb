{
 "cells": [
  {
   "cell_type": "code",
   "execution_count": 1,
   "metadata": {},
   "outputs": [],
   "source": [
    "import pandas as pd\n",
    "import numpy as np\n",
    "import matplotlib.pyplot as plt\n",
    "plt.style.use('seaborn-bright')\n",
    "\n",
    "from scipy.stats import norm\n",
    "from src.simulation import Simulation\n",
    "from src.world import World"
   ]
  },
  {
   "cell_type": "code",
   "execution_count": 5,
   "metadata": {},
   "outputs": [
    {
     "name": "stdout",
     "output_type": "stream",
     "text": [
      "round 100: Accuracy: 83.00% \n",
      "round 200: Accuracy: 83.50% \n",
      "round 300: Accuracy: 84.33% \n",
      "round 400: Accuracy: 86.00% \n",
      "round 500: Accuracy: 86.60% \n",
      "round 600: Accuracy: 87.33% \n",
      "round 700: Accuracy: 88.14% \n",
      "round 800: Accuracy: 88.38% \n",
      "round 900: Accuracy: 88.67% \n",
      "round 1000: Accuracy: 89.00% \n",
      "round 1100: Accuracy: 89.18% \n",
      "round 1200: Accuracy: 89.25% \n"
     ]
    }
   ],
   "source": [
    "from joblib import dump, load\n",
    "\n",
    "from river import compose\n",
    "from river import linear_model\n",
    "from river import metrics\n",
    "from river import preprocessing\n",
    "from river import datasets\n",
    "\n",
    "dataset = datasets.Phishing()\n",
    "\n",
    "model = compose.Pipeline(\n",
    "    preprocessing.StandardScaler(),\n",
    "    linear_model.LogisticRegression()\n",
    "    )\n",
    "\n",
    "metric = metrics.Accuracy()\n",
    "\n",
    "model_save_i = 0\n",
    "for x, y in dataset:\n",
    "    y_pred = model.predict_one(x)      # make a prediction\n",
    "    metric = metric.update(y, y_pred)  # update the metric\n",
    "#     print(y)\n",
    "    model = model.learn_one(x, y)      # make the model learn\n",
    "    \n",
    "    model_save_i += 1\n",
    "\n",
    "    if model_save_i % 100 == 0:\n",
    "        print(f\"round {model_save_i}: {metric} \")\n",
    "        dump(model, 'models/test_increment.joblib') \n"
   ]
  },
  {
   "cell_type": "code",
   "execution_count": 3,
   "metadata": {},
   "outputs": [
    {
     "name": "stdout",
     "output_type": "stream",
     "text": [
      "round 200: Accuracy: 88.90% \n",
      "round 400: Accuracy: 88.91% \n",
      "round 600: Accuracy: 89.14% \n",
      "round 800: Accuracy: 89.51% \n",
      "round 1000: Accuracy: 89.73% \n",
      "round 1200: Accuracy: 89.80% \n"
     ]
    }
   ],
   "source": [
    "loaded_model = load('models/test_increment.joblib')\n",
    "\n",
    "model_save_i = 0\n",
    "for x, y in dataset:\n",
    "    y_pred = loaded_model.predict_one(x)      # make a prediction\n",
    "    metric = metric.update(y, y_pred)  # update the metric\n",
    "    # loaded_model = loaded_model.learn_one(x, y)      # make the model learn\n",
    "\n",
    "    model_save_i += 1\n",
    "    if model_save_i % 200 == 0:\n",
    "        print(f\"round {model_save_i}: {metric} \")\n",
    "        dump(model, 'models/test_increment.joblib') \n",
    "\n"
   ]
  },
  {
   "cell_type": "code",
   "execution_count": null,
   "metadata": {},
   "outputs": [],
   "source": []
  }
 ],
 "metadata": {
  "kernelspec": {
   "display_name": "Python 3",
   "language": "python",
   "name": "python3"
  },
  "language_info": {
   "codemirror_mode": {
    "name": "ipython",
    "version": 3
   },
   "file_extension": ".py",
   "mimetype": "text/x-python",
   "name": "python",
   "nbconvert_exporter": "python",
   "pygments_lexer": "ipython3",
   "version": "3.9.2"
  }
 },
 "nbformat": 4,
 "nbformat_minor": 2
}
